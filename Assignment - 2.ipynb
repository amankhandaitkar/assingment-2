{
 "cells": [
  {
   "cell_type": "markdown",
   "id": "175bc2a5",
   "metadata": {},
   "source": [
    "# 1.What are the two values of the Boolean data type? How do you write them?\n",
    "\n",
    "Ans: The value of boolean data type is True and False.These value of exactly written as shown \n",
    "     True and False but first letter will be capital.\n"
   ]
  },
  {
   "cell_type": "code",
   "execution_count": 1,
   "id": "56843b3d",
   "metadata": {},
   "outputs": [
    {
     "name": "stdout",
     "output_type": "stream",
     "text": [
      "True\n",
      "False\n"
     ]
    }
   ],
   "source": [
    "#Example\n",
    "x = True\n",
    "y = False\n",
    "print(x)\n",
    "print(y)"
   ]
  },
  {
   "cell_type": "markdown",
   "id": "9e87feba",
   "metadata": {},
   "source": [
    "# 2. What are the three different types of Boolean operators?\n",
    "\n",
    "Ans: The three different types of Boolean operators are:\n",
    "     \n",
    "   1). AND\n",
    "   \n",
    "   2). OR\n",
    "   \n",
    "   3). NOT"
   ]
  },
  {
   "cell_type": "markdown",
   "id": "03aa6152",
   "metadata": {},
   "source": [
    "# 3. Make a list of each Boolean operator's truth tables (i.e. every possible combination of Boolean values for the operator and what it evaluate ).\n",
    "\n",
    "Ans: \n"
   ]
  },
  {
   "cell_type": "markdown",
   "id": "a728fc1b",
   "metadata": {},
   "source": [
    "# Boolean Operator Truth Tables\n",
    "\n",
    "### AND Operator (&&)\n",
    "\n",
    "| Operand 1 | Operand 2 | Result |\n",
    "|-----------|-----------|--------|\n",
    "|   False   |   False   | False  |\n",
    "|   False   |   True    | False  |\n",
    "|   True    |   False   | False  |\n",
    "|   True    |   True    | True   |\n",
    "\n",
    "### OR Operator (||)\n",
    "\n",
    "| Operand 1 | Operand 2 | Result |\n",
    "|-----------|-----------|--------|\n",
    "|   False   |   False   | False  |\n",
    "|   False   |   True    | True   |\n",
    "|   True    |   False   | True   |\n",
    "|   True    |   True    | True   |\n",
    "\n",
    "### NOT Operator (!)\n",
    "\n",
    "| Operand | Result |\n",
    "|---------|--------|\n",
    "|  False |  True  |\n",
    "|  True   | False  |\n",
    "\n"
   ]
  },
  {
   "cell_type": "markdown",
   "id": "60b51156",
   "metadata": {},
   "source": [
    "# 4. What are the values of the following expressions?\n",
    "(5 &gt; 4) and (3 == 5)\n",
    "\n",
    "not (5 &gt; 4)\n",
    "\n",
    "(5 &gt; 4) or (3 == 5)\n",
    "\n",
    "not ((5 &gt; 4) or (3 == 5))\n",
    "\n",
    "(True and True) and (True == False)\n",
    "\n",
    "(not False) or (not True)\n",
    "\n",
    "================================================================================================================================\n",
    "\n",
    "\n",
    "\n",
    "Ans:\n",
    "\n",
    "1). (5 > 4) and (3 == 5)\n",
    "\n",
    " => Value is False\n",
    "        \n",
    "2). not (5>4)\n",
    "\n",
    "=> Value is False\n",
    "\n",
    "3). (5>4) or (3==5)\n",
    "\n",
    "=> Value is True\n",
    "\n",
    "4). not ((5>4) or (3==5))\n",
    "\n",
    "=> Value is False\n",
    "\n",
    "5).(True and True) and (True == False)\n",
    "\n",
    "=> False\n",
    "\n",
    "6). (not False) or (not True)\n",
    "\n",
    "=> True"
   ]
  },
  {
   "cell_type": "markdown",
   "id": "dd24ac94",
   "metadata": {},
   "source": [
    "# 5. What are the six comparison operators?\n",
    "\n",
    "\n",
    "Ans:\n",
    "\n",
    "1). Equal to (==)\n",
    "\n",
    "2).Not equal to (!=)\n",
    " \n",
    "3). Greater than (>)\n",
    " \n",
    "4). Less than (<)\n",
    " \n",
    "5). Greater than or equal to (>=)\n",
    " \n",
    "6). Less than or equal to (<=)\n",
    "\n",
    "\n"
   ]
  },
  {
   "cell_type": "markdown",
   "id": "02d31bd6",
   "metadata": {},
   "source": [
    "# 6). How do you tell the difference between the equal to and assignment operators?Describe a condition and when you would use one.\n",
    "\n",
    "\n",
    "\n",
    "\n",
    "Ans: The Equal to operator (==) is use to compare the two value to check there value is equal or not.\n",
    "\n",
    "      On other hand the assign operator (=) is use to assing the value of a variable\n",
    "      \n",
    "      To differentiate between the two:\n",
    "      \n",
    "      * Equal to operator(==) : Used for comparison\n",
    "      \n",
    "      * Assign operator (=) :  Used for Variable Assignment"
   ]
  },
  {
   "cell_type": "code",
   "execution_count": 3,
   "id": "fef131fa",
   "metadata": {},
   "outputs": [
    {
     "name": "stdout",
     "output_type": "stream",
     "text": [
      "x is not equal to y\n"
     ]
    }
   ],
   "source": [
    "#For Example\n",
    "\n",
    "x = 5   # assigning using (=) operator\n",
    "y = 10\n",
    "if x==y:  # comparing using (==) operator\n",
    "    print(\"x is equal to y\")\n",
    "else:\n",
    "    print(\"x is not equal to y\")"
   ]
  },
  {
   "cell_type": "markdown",
   "id": "992904ad",
   "metadata": {},
   "source": [
    "# 7).  Identify the three blocks in this code:\n",
    "\n",
    "spam = 0\n",
    "\n",
    "if spam == 10:\n",
    "\n",
    "print(&#39;eggs&#39;)\n",
    "\n",
    "if spam &gt; 5:\n",
    "\n",
    "print(&#39;bacon&#39;)\n",
    "\n",
    "else:\n",
    "\n",
    "print(&#39;ham&#39;)\n",
    "\n",
    "print(&#39;spam&#39;)\n",
    "\n",
    "print(&#39;spam&#39;)"
   ]
  },
  {
   "cell_type": "markdown",
   "id": "d8dcf2aa",
   "metadata": {},
   "source": [
    "# Ans: \n",
    "   1). The first block is an if statement with the condition spam == 10. \n",
    "    However, there is no indented code below it, so it does not have a specific block.\n",
    "\n",
    "2).The second block is also an if statement with the condition spam > 5. \n",
    "The indented code below it contains the statement print('bacon').\n",
    "\n",
    "3).The third block is an else statement corresponding to the previous if statement (spam > 5).\n",
    "The indented code below it contains the statements print('ham'), print('spam'), and print('spam').\n",
    "\n"
   ]
  },
  {
   "cell_type": "code",
   "execution_count": 5,
   "id": "f3e70e7e",
   "metadata": {},
   "outputs": [
    {
     "name": "stdout",
     "output_type": "stream",
     "text": [
      "ham\n",
      "spam\n",
      "spam\n"
     ]
    }
   ],
   "source": [
    "spam = 0\n",
    "if spam == 10:\n",
    "    # Block 1\n",
    "    print('eggs')\n",
    "if spam > 5:\n",
    "    # Block 2\n",
    "    print('bacon')\n",
    "else:\n",
    "    # Block 3\n",
    "    print('ham')\n",
    "    print('spam')\n",
    "    print('spam')\n"
   ]
  },
  {
   "cell_type": "markdown",
   "id": "c61ce91c",
   "metadata": {},
   "source": [
    "# 8. Write code that prints Hello if 1 is stored in spam, prints Howdy if 2 is stored in spam, and prints Greetings! if anything else is stored in spam."
   ]
  },
  {
   "cell_type": "code",
   "execution_count": 13,
   "id": "3e932a10",
   "metadata": {},
   "outputs": [
    {
     "name": "stdout",
     "output_type": "stream",
     "text": [
      "hello\n"
     ]
    }
   ],
   "source": [
    "#Ans:\n",
    "spam = 1\n",
    "\n",
    "if spam == 1:\n",
    "        print(\"hello\")\n",
    "elif spam == 2:\n",
    "    print(\"Howdy\")\n",
    "else:\n",
    "    print(\"Greetings\")"
   ]
  },
  {
   "cell_type": "markdown",
   "id": "4b0dfb31",
   "metadata": {},
   "source": [
    "# 9.If your programme is stuck in an endless loop, what keys you’ll press?\n",
    "\n",
    "Ans: Ctrl + c"
   ]
  },
  {
   "cell_type": "markdown",
   "id": "1dc32a6c",
   "metadata": {},
   "source": [
    "# 10. How can you tell the difference between break and continue?\n",
    "\n",
    "Ans: 'break': When encountered inside a loop (e.g., for or while loop), the break statement immediately exits the loop, terminating the loop's execution.\n",
    "\n",
    "'continue': When encountered inside a loop, the continue statement skips the rest of the current iteration and proceeds to the next iteration of the loop."
   ]
  },
  {
   "cell_type": "markdown",
   "id": "ce167f26",
   "metadata": {},
   "source": [
    "# 11.In a for loop, what is the difference between range(10), range(0, 10), and range(0, 10, 1)? \n",
    "\n",
    "Ans:1). range(10): This expression creates a sequence of numbers from 0 to 9 (10 numbers in total). The range() function automatically assumes the starting value as 0 if no starting point is specified explicitly. The sequence will stop just before the specified end value, which is 10 in this case.\n",
    "\n",
    "2).range(0, 10): This expression is explicitly defining the starting point as 0 and the ending point as 10. It will generate the same sequence of numbers from 0 to 9 (10 numbers in total), just like range(10).\n",
    "\n",
    "3).range(0, 10, 1): This expression also explicitly specifies the starting point as 0, the ending point as 10, and an optional step value of 1. Since the step value is 1 (the default if not specified), it will generate the same sequence of numbers from 0 to 9 (10 numbers in total), just like range(10) and range(0, 10).\n",
    "\n"
   ]
  },
  {
   "cell_type": "markdown",
   "id": "0c1edd96",
   "metadata": {},
   "source": [
    "# 12. Write a short program that prints the numbers 1 to 10 using a for loop. Then write an equivalent program that prints the numbers 1 to 10 using a while loop."
   ]
  },
  {
   "cell_type": "code",
   "execution_count": 14,
   "id": "dd1e27d4",
   "metadata": {},
   "outputs": [
    {
     "name": "stdout",
     "output_type": "stream",
     "text": [
      "1\n",
      "2\n",
      "3\n",
      "4\n",
      "5\n",
      "6\n",
      "7\n",
      "8\n",
      "9\n",
      "10\n"
     ]
    }
   ],
   "source": [
    "# Ans: Using a for loop to print numbers from 1 to 10\n",
    "\n",
    "for num in range(1, 11):\n",
    "    print(num)\n"
   ]
  },
  {
   "cell_type": "code",
   "execution_count": 15,
   "id": "79bd0a2c",
   "metadata": {},
   "outputs": [
    {
     "name": "stdout",
     "output_type": "stream",
     "text": [
      "1\n",
      "2\n",
      "3\n",
      "4\n",
      "5\n",
      "6\n",
      "7\n",
      "8\n",
      "9\n",
      "10\n"
     ]
    }
   ],
   "source": [
    "# Using a while loop to print numbers from 1 to 10\n",
    "num = 1\n",
    "while num <= 10:\n",
    "    print(num)\n",
    "    num += 1\n"
   ]
  },
  {
   "cell_type": "markdown",
   "id": "de7b112f",
   "metadata": {},
   "source": [
    "# 13. If you had a function named bacon() inside a module named spam, how would you call it after importing spam?\n",
    "\n",
    "Ans: : After importing the spam module, we can call the function bacon() by using spam.bacon() syntax. This accesses the function bacon() inside the spam module and executes it."
   ]
  }
 ],
 "metadata": {
  "kernelspec": {
   "display_name": "Python 3 (ipykernel)",
   "language": "python",
   "name": "python3"
  },
  "language_info": {
   "codemirror_mode": {
    "name": "ipython",
    "version": 3
   },
   "file_extension": ".py",
   "mimetype": "text/x-python",
   "name": "python",
   "nbconvert_exporter": "python",
   "pygments_lexer": "ipython3",
   "version": "3.11.3"
  }
 },
 "nbformat": 4,
 "nbformat_minor": 5
}
